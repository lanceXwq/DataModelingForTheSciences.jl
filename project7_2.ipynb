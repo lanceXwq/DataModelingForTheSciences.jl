{
 "cells": [
  {
   "cell_type": "code",
   "execution_count": 6,
   "metadata": {},
   "outputs": [],
   "source": [
    "import numpy as np\n",
    "import matplotlib.pyplot as plt"
   ]
  },
  {
   "cell_type": "code",
   "execution_count": 7,
   "metadata": {},
   "outputs": [],
   "source": [
    "# GENERATION OF SYNTHETIC DATA\n",
    "number_data_points = 1000\n",
    "lambda1 = 2  # Scale parameter for the first exponential distribution\n",
    "lambda2 = 4  # Scale parameter for the second exponential distribution\n",
    "pi1 = 0.6  # Mixing proportion for the first exponential distribution\n",
    "pi2 = 1 - pi1  # Mixing proportion for the second exponential distribution\n",
    "\n",
    "samples1 = np.random.exponential(\n",
    "    1 / lambda1, size=int(pi1 * number_data_points)\n",
    ")  # Generate samples from each exponential distribution\n",
    "samples2 = np.random.exponential(1 / lambda2, size=int(pi2 * number_data_points))\n",
    "\n",
    "samples = np.concatenate(\n",
    "    [samples1, samples2]\n",
    ")  # Combine the samples from both distributions\n",
    "# np.random.shuffle(samples)  # Shuffle the combined samples to ensure random ordering"
   ]
  },
  {
   "cell_type": "code",
   "execution_count": 8,
   "metadata": {},
   "outputs": [
    {
     "name": "stdout",
     "output_type": "stream",
     "text": [
      "[0.5 0.5]\n"
     ]
    }
   ],
   "source": [
    "# GIBBS PARAMETERS\n",
    "alpha = 1\n",
    "beta = 1\n",
    "gibbs_iterations = 100\n",
    "large_M = 2  # define \"weak limit\"\n",
    "initial_value_rates = 3.4\n",
    "rate_array = np.full(\n",
    "    large_M, initial_value_rates\n",
    ")  # [0.01, 10.0] #np.full(large_M, initial_value_rates)\n",
    "# rate_array = np.array([2.0, 4.0])\n",
    "pi_array = np.full(large_M, 1 / large_M)  # [0.7, 0.3] # np.full(large_M, 1/large_M)\n",
    "# pi_array = np.array([0.7, 0.3])\n",
    "categories = np.arange(\n",
    "    1, large_M + 1\n",
    ")  # this outputs an array of integers from 1 to large_M\n",
    "\n",
    "\n",
    "# Define emission distribution for multiple species indices\n",
    "def cat_prob_for_multiple_species(data_index, rate_array):\n",
    "    result_arrays = []  # List to store the arrays for each species index\n",
    "    for species_index in range(large_M):\n",
    "        result_array = (\n",
    "            rate_array[species_index]\n",
    "            * np.exp(-samples[data_index] * rate_array[species_index])\n",
    "            * pi_array[species_index]\n",
    "        )\n",
    "        result_arrays.append(result_array)\n",
    "    return result_arrays / np.sum(result_arrays)\n",
    "\n",
    "\n",
    "print(cat_prob_for_multiple_species(1, rate_array))\n",
    "# print(sum(cat_prob_for_multiple_species(2)))\n",
    "# print(categories)\n",
    "\n",
    "sample_array = np.zeros(\n",
    "    (gibbs_iterations, number_data_points)\n",
    ")  # Initiate the array coinciding with the number of Gibbs samples and the output of each"
   ]
  },
  {
   "cell_type": "code",
   "execution_count": 9,
   "metadata": {},
   "outputs": [
    {
     "name": "stdout",
     "output_type": "stream",
     "text": [
      "[1.015 0.985]\n",
      "[1.365 0.635]\n",
      "[1.456 0.544]\n",
      "[1.461 0.539]\n",
      "[1.23 0.77]\n",
      "[1.451 0.549]\n",
      "[1.496 0.504]\n",
      "[0.729 1.271]\n",
      "[0.618 1.382]\n",
      "[0.513 1.487]\n",
      "[0.57 1.43]\n",
      "[0.538 1.462]\n",
      "[0.503 1.497]\n",
      "[0.769 1.231]\n",
      "[1.198 0.802]\n",
      "[1.384 0.616]\n",
      "[1.359 0.641]\n",
      "[1.464 0.536]\n",
      "[1.359 0.641]\n",
      "[1.469 0.531]\n",
      "[0.821 1.179]\n",
      "[1.5 0.5]\n",
      "[1.37 0.63]\n",
      "[1.242 0.758]\n",
      "[0.594 1.406]\n",
      "[0.556 1.444]\n",
      "[0.688 1.312]\n",
      "[0.602 1.398]\n",
      "[0.507 1.493]\n",
      "[0.928 1.072]\n",
      "[0.604 1.396]\n",
      "[0.62 1.38]\n",
      "[0.756 1.244]\n",
      "[1.363 0.637]\n",
      "[0.503 1.497]\n",
      "[0.514 1.486]\n",
      "[0.508 1.492]\n",
      "[0.525 1.475]\n",
      "[0.648 1.352]\n",
      "[0.885 1.115]\n",
      "[0.663 1.337]\n",
      "[0.572 1.428]\n",
      "[0.68 1.32]\n",
      "[0.926 1.074]\n",
      "[1.193 0.807]\n",
      "[1.194 0.806]\n",
      "[0.784 1.216]\n",
      "[0.557 1.443]\n",
      "[0.812 1.188]\n",
      "[0.859 1.141]\n",
      "[1.117 0.883]\n",
      "[0.717 1.283]\n",
      "[1.014 0.986]\n",
      "[1.198 0.802]\n",
      "[1.435 0.565]\n",
      "[1.184 0.816]\n",
      "[1.449 0.551]\n",
      "[1.133 0.867]\n",
      "[1.429 0.571]\n",
      "[1.21 0.79]\n",
      "[1.299 0.701]\n",
      "[1.337 0.663]\n",
      "[1.049 0.951]\n",
      "[1.174 0.826]\n",
      "[1.432 0.568]\n",
      "[1.111 0.889]\n",
      "[0.81 1.19]\n",
      "[0.56 1.44]\n",
      "[0.923 1.077]\n",
      "[1.254 0.746]\n",
      "[1.377 0.623]\n",
      "[1.418 0.582]\n",
      "[1.049 0.951]\n",
      "[1.377 0.623]\n",
      "[0.998 1.002]\n",
      "[1.049 0.951]\n",
      "[1.474 0.526]\n",
      "[1.254 0.746]\n",
      "[1.497 0.503]\n",
      "[1.448 0.552]\n",
      "[0.598 1.402]\n",
      "[0.528 1.472]\n",
      "[1.015 0.985]\n",
      "[1.478 0.522]\n",
      "[0.625 1.375]\n",
      "[1.147 0.853]\n",
      "[0.643 1.357]\n",
      "[0.528 1.472]\n",
      "[1.249 0.751]\n",
      "[0.761 1.239]\n",
      "[1.438 0.562]\n",
      "[1.461 0.539]\n",
      "[1.42 0.58]\n",
      "[1.492 0.508]\n",
      "[1.131 0.869]\n",
      "[1.281 0.719]\n",
      "[1.266 0.734]\n",
      "[1.428 0.572]\n",
      "[1.223 0.777]\n",
      "[0.504 1.496]\n",
      "[[2. 2. 2. ... 2. 1. 2.]\n",
      " [1. 1. 1. ... 1. 1. 1.]\n",
      " [1. 2. 1. ... 1. 1. 1.]\n",
      " ...\n",
      " [1. 1. 1. ... 1. 1. 1.]\n",
      " [2. 1. 2. ... 2. 1. 1.]\n",
      " [2. 2. 2. ... 2. 2. 2.]]\n"
     ]
    }
   ],
   "source": [
    "for i in range(gibbs_iterations):\n",
    "    count_array = np.zeros(large_M)  # Initialize array of counts\n",
    "    beta_sum_array = np.zeros(large_M)  # Initialize array of counts\n",
    "    pi_prob_array = np.zeros(large_M)\n",
    "\n",
    "    for d in range(number_data_points):  # sample the s's\n",
    "        sn = np.random.choice(\n",
    "            categories, p=cat_prob_for_multiple_species(d, rate_array)\n",
    "        )\n",
    "        sample_array[i, d] = sn\n",
    "        count_array[sn - 1] += 1\n",
    "        beta_sum_array[sn - 1] += samples[d]\n",
    "        # print(cat_prob_for_multiple_species)\n",
    "    for d in range(large_M):\n",
    "        rate_array[d] = np.random.gamma(\n",
    "            alpha + count_array[d], 1 / (1 / beta + beta_sum_array[d])\n",
    "        )\n",
    "        pi_prob_array[d] = alpha / large_M + count_array[d] / number_data_points\n",
    "        # print(pi_prob_array)\n",
    "    print(pi_prob_array)\n",
    "    pi_array = np.random.dirichlet(pi_prob_array)\n",
    "\n",
    "\n",
    "# print(samples)\n",
    "print(sample_array)"
   ]
  },
  {
   "cell_type": "code",
   "execution_count": 41,
   "metadata": {},
   "outputs": [
    {
     "data": {
      "text/plain": [
       "range(0, 1)"
      ]
     },
     "execution_count": 41,
     "metadata": {},
     "output_type": "execute_result"
    }
   ],
   "source": [
    "range(large_M)"
   ]
  },
  {
   "cell_type": "code",
   "execution_count": 42,
   "metadata": {},
   "outputs": [
    {
     "data": {
      "text/plain": [
       "array([1])"
      ]
     },
     "execution_count": 42,
     "metadata": {},
     "output_type": "execute_result"
    }
   ],
   "source": [
    "categories"
   ]
  },
  {
   "cell_type": "code",
   "execution_count": 43,
   "metadata": {},
   "outputs": [
    {
     "name": "stdout",
     "output_type": "stream",
     "text": [
      "[2.04593116]\n"
     ]
    }
   ],
   "source": [
    "print(rate_array)"
   ]
  },
  {
   "cell_type": "code",
   "execution_count": 2,
   "metadata": {},
   "outputs": [
    {
     "data": {
      "text/plain": [
       "array([1, 1])"
      ]
     },
     "execution_count": 2,
     "metadata": {},
     "output_type": "execute_result"
    }
   ],
   "source": [
    "np.full(2,1)"
   ]
  },
  {
   "cell_type": "code",
   "execution_count": 5,
   "metadata": {},
   "outputs": [
    {
     "data": {
      "text/plain": [
       "array([1, 2])"
      ]
     },
     "execution_count": 5,
     "metadata": {},
     "output_type": "execute_result"
    }
   ],
   "source": [
    "np.array([1,2])"
   ]
  },
  {
   "cell_type": "code",
   "execution_count": null,
   "metadata": {},
   "outputs": [],
   "source": []
  }
 ],
 "metadata": {
  "kernelspec": {
   "display_name": "Python 3",
   "language": "python",
   "name": "python3"
  },
  "language_info": {
   "codemirror_mode": {
    "name": "ipython",
    "version": 3
   },
   "file_extension": ".py",
   "mimetype": "text/x-python",
   "name": "python",
   "nbconvert_exporter": "python",
   "pygments_lexer": "ipython3",
   "version": "3.12.2"
  }
 },
 "nbformat": 4,
 "nbformat_minor": 2
}
